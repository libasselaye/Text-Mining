{
 "cells": [
  {
   "cell_type": "markdown",
   "id": "55406d25",
   "metadata": {},
   "source": [
    "# Vérification des versions"
   ]
  },
  {
   "cell_type": "code",
   "execution_count": 1,
   "id": "1cadf125",
   "metadata": {},
   "outputs": [
    {
     "name": "stdout",
     "output_type": "stream",
     "text": [
      "3.6.5\n"
     ]
    }
   ],
   "source": [
    "#nltk\n",
    "import nltk\n",
    "print(nltk.__version__)"
   ]
  },
  {
   "cell_type": "code",
   "execution_count": 2,
   "id": "7704d4a9",
   "metadata": {},
   "outputs": [
    {
     "name": "stdout",
     "output_type": "stream",
     "text": [
      "4.0.1\n"
     ]
    }
   ],
   "source": [
    "#gensim\n",
    "import gensim\n",
    "print(gensim.__version__)"
   ]
  },
  {
   "cell_type": "markdown",
   "id": "9d29f2ce",
   "metadata": {},
   "source": [
    "# Importation de la base"
   ]
  },
  {
   "cell_type": "code",
   "execution_count": 3,
   "id": "ee95f62d",
   "metadata": {},
   "outputs": [],
   "source": [
    "#changer de dossier par défaut\n",
    "import os\n",
    "os.chdir(\"C:/Users/ricco/Desktop/demo\")"
   ]
  },
  {
   "cell_type": "code",
   "execution_count": 4,
   "id": "5c32ff63",
   "metadata": {},
   "outputs": [
    {
     "name": "stdout",
     "output_type": "stream",
     "text": [
      "<class 'pandas.core.frame.DataFrame'>\n",
      "RangeIndex: 200 entries, 0 to 199\n",
      "Data columns (total 3 columns):\n",
      " #   Column        Non-Null Count  Dtype \n",
      "---  ------        --------------  ----- \n",
      " 0   ID            200 non-null    int64 \n",
      " 1   label         200 non-null    object\n",
      " 2   commentaires  200 non-null    object\n",
      "dtypes: int64(1), object(2)\n",
      "memory usage: 4.8+ KB\n"
     ]
    }
   ],
   "source": [
    "#importation du fichier\n",
    "import pandas\n",
    "D = pandas.read_excel(\"imdb_reviews_100.xlsx\")\n",
    "D.info()"
   ]
  },
  {
   "cell_type": "code",
   "execution_count": 5,
   "id": "c073d3c5",
   "metadata": {},
   "outputs": [
    {
     "data": {
      "text/html": [
       "<div>\n",
       "<style scoped>\n",
       "    .dataframe tbody tr th:only-of-type {\n",
       "        vertical-align: middle;\n",
       "    }\n",
       "\n",
       "    .dataframe tbody tr th {\n",
       "        vertical-align: top;\n",
       "    }\n",
       "\n",
       "    .dataframe thead th {\n",
       "        text-align: right;\n",
       "    }\n",
       "</style>\n",
       "<table border=\"1\" class=\"dataframe\">\n",
       "  <thead>\n",
       "    <tr style=\"text-align: right;\">\n",
       "      <th></th>\n",
       "      <th>ID</th>\n",
       "      <th>label</th>\n",
       "      <th>commentaires</th>\n",
       "    </tr>\n",
       "  </thead>\n",
       "  <tbody>\n",
       "    <tr>\n",
       "      <th>0</th>\n",
       "      <td>1</td>\n",
       "      <td>neg</td>\n",
       "      <td>This guy has no idea of cinema. Okay, it seems...</td>\n",
       "    </tr>\n",
       "    <tr>\n",
       "      <th>1</th>\n",
       "      <td>2</td>\n",
       "      <td>neg</td>\n",
       "      <td>This movie was extremely depressing.   The cha...</td>\n",
       "    </tr>\n",
       "    <tr>\n",
       "      <th>2</th>\n",
       "      <td>3</td>\n",
       "      <td>neg</td>\n",
       "      <td>Now, I'm one to watch movies that got poor rev...</td>\n",
       "    </tr>\n",
       "    <tr>\n",
       "      <th>3</th>\n",
       "      <td>4</td>\n",
       "      <td>neg</td>\n",
       "      <td>One hour, eight minutes and twelve seconds int...</td>\n",
       "    </tr>\n",
       "    <tr>\n",
       "      <th>4</th>\n",
       "      <td>5</td>\n",
       "      <td>neg</td>\n",
       "      <td>Another FRIDAY THE 13TH ripoff, even featuring...</td>\n",
       "    </tr>\n",
       "  </tbody>\n",
       "</table>\n",
       "</div>"
      ],
      "text/plain": [
       "   ID label                                       commentaires\n",
       "0   1   neg  This guy has no idea of cinema. Okay, it seems...\n",
       "1   2   neg  This movie was extremely depressing.   The cha...\n",
       "2   3   neg  Now, I'm one to watch movies that got poor rev...\n",
       "3   4   neg  One hour, eight minutes and twelve seconds int...\n",
       "4   5   neg  Another FRIDAY THE 13TH ripoff, even featuring..."
      ]
     },
     "execution_count": 5,
     "metadata": {},
     "output_type": "execute_result"
    }
   ],
   "source": [
    "#première lignes\n",
    "D.head()"
   ]
  },
  {
   "cell_type": "markdown",
   "id": "061c9900",
   "metadata": {},
   "source": [
    "# Nettoyage du corpus"
   ]
  },
  {
   "cell_type": "code",
   "execution_count": 6,
   "id": "729687ba",
   "metadata": {},
   "outputs": [
    {
     "name": "stdout",
     "output_type": "stream",
     "text": [
      "This guy has no idea of cinema. Okay, it seems he made a few interestig theater shows in his youth, and about two acceptable movies that had success more of political reasons cause they tricked the communist censorship. This all is very good, but look carefully: HE DOES NOT KNOW HIS JOB! The scenes are unbalanced, without proper start and and, with a disordered content and full of emptiness. He has nothing to say about the subject, so he over-licitates with violence, nakedness and gutter language. How is it possible to keep alive such a rotten corpse who never understood anything of cinematographic profession and art? Why don't they let him succumb in piece?\n"
     ]
    }
   ],
   "source": [
    "#récupérer sous forme de liste\n",
    "corpus = D['commentaires'].tolist()\n",
    "print(corpus[0])"
   ]
  },
  {
   "cell_type": "code",
   "execution_count": 7,
   "id": "4a7da260",
   "metadata": {},
   "outputs": [
    {
     "name": "stdout",
     "output_type": "stream",
     "text": [
      "this guy has no idea of cinema. okay, it seems he made a few interestig theater shows in his youth, and about two acceptable movies that had success more of political reasons cause they tricked the communist censorship. this all is very good, but look carefully: he does not know his job! the scenes are unbalanced, without proper start and and, with a disordered content and full of emptiness. he has nothing to say about the subject, so he over-licitates with violence, nakedness and gutter language. how is it possible to keep alive such a rotten corpse who never understood anything of cinematographic profession and art? why don't they let him succumb in piece?\n"
     ]
    }
   ],
   "source": [
    "#passer en minuscule\n",
    "corpus = [doc.lower() for doc in corpus]\n",
    "print(corpus[0])"
   ]
  },
  {
   "cell_type": "code",
   "execution_count": 8,
   "id": "7780c758",
   "metadata": {},
   "outputs": [
    {
     "name": "stdout",
     "output_type": "stream",
     "text": [
      "['!', '\"', '#', '$', '%', '&', \"'\", '(', ')', '*', '+', ',', '-', '.', '/', ':', ';', '<', '=', '>', '?', '@', '[', '\\\\', ']', '^', '_', '`', '{', '|', '}', '~']\n"
     ]
    }
   ],
   "source": [
    "#liste des ponctuations\n",
    "import string\n",
    "ponctuations = list(string.punctuation)\n",
    "print(ponctuations)"
   ]
  },
  {
   "cell_type": "code",
   "execution_count": 9,
   "id": "befc0465",
   "metadata": {},
   "outputs": [
    {
     "name": "stdout",
     "output_type": "stream",
     "text": [
      "this guy has no idea of cinema okay it seems he made a few interestig theater shows in his youth and about two acceptable movies that had success more of political reasons cause they tricked the communist censorship this all is very good but look carefully he does not know his job the scenes are unbalanced without proper start and and with a disordered content and full of emptiness he has nothing to say about the subject so he overlicitates with violence nakedness and gutter language how is it possible to keep alive such a rotten corpse who never understood anything of cinematographic profession and art why dont they let him succumb in piece\n"
     ]
    }
   ],
   "source": [
    "#retrait des ponctuations\n",
    "corpus = [\"\".join([char for char in list(doc) if not (char in ponctuations)]) for doc in corpus]\n",
    "print(corpus[0])"
   ]
  },
  {
   "cell_type": "code",
   "execution_count": 10,
   "id": "9cdbaead",
   "metadata": {},
   "outputs": [
    {
     "name": "stderr",
     "output_type": "stream",
     "text": [
      "[nltk_data] Downloading package punkt to\n",
      "[nltk_data]     C:\\Users\\ricco\\AppData\\Roaming\\nltk_data...\n",
      "[nltk_data]   Package punkt is already up-to-date!\n"
     ]
    },
    {
     "data": {
      "text/plain": [
       "True"
      ]
     },
     "execution_count": 10,
     "metadata": {},
     "output_type": "execute_result"
    }
   ],
   "source": [
    "#nécessité de punkt - modèle de tokénisation\n",
    "#à charger en ligne si ce n'est pas déjà fait\n",
    "import nltk\n",
    "#nltk.download()\n",
    "nltk.download('punkt')"
   ]
  },
  {
   "cell_type": "code",
   "execution_count": 11,
   "id": "c92e486e",
   "metadata": {},
   "outputs": [
    {
     "name": "stdout",
     "output_type": "stream",
     "text": [
      "this guy has no idea of cinema okay it seems he made a few interestig theater shows in his youth and about two acceptable movies that had success more of political reasons cause they tricked the communist censorship this all is very good but look carefully he does not know his job the scenes are unbalanced without proper start and and with a disordered content and full of emptiness he has nothing to say about the subject so he overlicitates with violence nakedness and gutter language how is it possible to keep alive such a rotten corpse who never understood anything of cinematographic profession and art why dont they let him succumb in piece\n",
      "\n",
      "\n",
      "['this', 'guy', 'has', 'no', 'idea', 'of', 'cinema', 'okay', 'it', 'seems', 'he', 'made', 'a', 'few', 'interestig', 'theater', 'shows', 'in', 'his', 'youth', 'and', 'about', 'two', 'acceptable', 'movies', 'that', 'had', 'success', 'more', 'of', 'political', 'reasons', 'cause', 'they', 'tricked', 'the', 'communist', 'censorship', 'this', 'all', 'is', 'very', 'good', 'but', 'look', 'carefully', 'he', 'does', 'not', 'know', 'his', 'job', 'the', 'scenes', 'are', 'unbalanced', 'without', 'proper', 'start', 'and', 'and', 'with', 'a', 'disordered', 'content', 'and', 'full', 'of', 'emptiness', 'he', 'has', 'nothing', 'to', 'say', 'about', 'the', 'subject', 'so', 'he', 'overlicitates', 'with', 'violence', 'nakedness', 'and', 'gutter', 'language', 'how', 'is', 'it', 'possible', 'to', 'keep', 'alive', 'such', 'a', 'rotten', 'corpse', 'who', 'never', 'understood', 'anything', 'of', 'cinematographic', 'profession', 'and', 'art', 'why', 'dont', 'they', 'let', 'him', 'succumb', 'in', 'piece']\n"
     ]
    }
   ],
   "source": [
    "#transformer le corpus en liste de listes (les documents)\n",
    "#par tokénisation\n",
    "from nltk.tokenize import word_tokenize\n",
    "corpus_tk = [word_tokenize(doc) for doc in corpus]\n",
    "\n",
    "#avant\n",
    "print(corpus[0])\n",
    "\n",
    "#après tokénisation\n",
    "print('\\n')\n",
    "print(corpus_tk[0])"
   ]
  },
  {
   "cell_type": "code",
   "execution_count": null,
   "id": "4a6d2b8c",
   "metadata": {},
   "outputs": [],
   "source": [
    "#importation librarire pour lemmatisation\n",
    "#si ce n'est pas déjà fait\n",
    "#nltk.download('wordnet')"
   ]
  },
  {
   "cell_type": "code",
   "execution_count": 12,
   "id": "e05a723f",
   "metadata": {},
   "outputs": [
    {
     "name": "stdout",
     "output_type": "stream",
     "text": [
      "['this', 'guy', 'ha', 'no', 'idea', 'of', 'cinema', 'okay', 'it', 'seems', 'he', 'made', 'a', 'few', 'interestig', 'theater', 'show', 'in', 'his', 'youth', 'and', 'about', 'two', 'acceptable', 'movie', 'that', 'had', 'success', 'more', 'of', 'political', 'reason', 'cause', 'they', 'tricked', 'the', 'communist', 'censorship', 'this', 'all', 'is', 'very', 'good', 'but', 'look', 'carefully', 'he', 'doe', 'not', 'know', 'his', 'job', 'the', 'scene', 'are', 'unbalanced', 'without', 'proper', 'start', 'and', 'and', 'with', 'a', 'disordered', 'content', 'and', 'full', 'of', 'emptiness', 'he', 'ha', 'nothing', 'to', 'say', 'about', 'the', 'subject', 'so', 'he', 'overlicitates', 'with', 'violence', 'nakedness', 'and', 'gutter', 'language', 'how', 'is', 'it', 'possible', 'to', 'keep', 'alive', 'such', 'a', 'rotten', 'corpse', 'who', 'never', 'understood', 'anything', 'of', 'cinematographic', 'profession', 'and', 'art', 'why', 'dont', 'they', 'let', 'him', 'succumb', 'in', 'piece']\n"
     ]
    }
   ],
   "source": [
    "#lemmatisation\n",
    "from nltk.stem import WordNetLemmatizer\n",
    "lem = WordNetLemmatizer()\n",
    "corpus_lm = [[lem.lemmatize(mot) for mot in doc] for doc in corpus_tk]\n",
    "print(corpus_lm[0])"
   ]
  },
  {
   "cell_type": "code",
   "execution_count": 13,
   "id": "3e2b4086",
   "metadata": {},
   "outputs": [],
   "source": [
    "#importer la librairie des stopwords\n",
    "#si ce n'est pas déjà fait\n",
    "#nltk.download('stopwords')"
   ]
  },
  {
   "cell_type": "code",
   "execution_count": 14,
   "id": "d6418474",
   "metadata": {},
   "outputs": [
    {
     "name": "stdout",
     "output_type": "stream",
     "text": [
      "['i', 'me', 'my', 'myself', 'we', 'our', 'ours', 'ourselves', 'you', \"you're\", \"you've\", \"you'll\", \"you'd\", 'your', 'yours', 'yourself', 'yourselves', 'he', 'him', 'his', 'himself', 'she', \"she's\", 'her', 'hers', 'herself', 'it', \"it's\", 'its', 'itself', 'they', 'them', 'their', 'theirs', 'themselves', 'what', 'which', 'who', 'whom', 'this', 'that', \"that'll\", 'these', 'those', 'am', 'is', 'are', 'was', 'were', 'be', 'been', 'being', 'have', 'has', 'had', 'having', 'do', 'does', 'did', 'doing', 'a', 'an', 'the', 'and', 'but', 'if', 'or', 'because', 'as', 'until', 'while', 'of', 'at', 'by', 'for', 'with', 'about', 'against', 'between', 'into', 'through', 'during', 'before', 'after', 'above', 'below', 'to', 'from', 'up', 'down', 'in', 'out', 'on', 'off', 'over', 'under', 'again', 'further', 'then', 'once', 'here', 'there', 'when', 'where', 'why', 'how', 'all', 'any', 'both', 'each', 'few', 'more', 'most', 'other', 'some', 'such', 'no', 'nor', 'not', 'only', 'own', 'same', 'so', 'than', 'too', 'very', 's', 't', 'can', 'will', 'just', 'don', \"don't\", 'should', \"should've\", 'now', 'd', 'll', 'm', 'o', 're', 've', 'y', 'ain', 'aren', \"aren't\", 'couldn', \"couldn't\", 'didn', \"didn't\", 'doesn', \"doesn't\", 'hadn', \"hadn't\", 'hasn', \"hasn't\", 'haven', \"haven't\", 'isn', \"isn't\", 'ma', 'mightn', \"mightn't\", 'mustn', \"mustn't\", 'needn', \"needn't\", 'shan', \"shan't\", 'shouldn', \"shouldn't\", 'wasn', \"wasn't\", 'weren', \"weren't\", 'won', \"won't\", 'wouldn', \"wouldn't\"]\n"
     ]
    }
   ],
   "source": [
    "#charger les stopwords\n",
    "from nltk.corpus import stopwords\n",
    "mots_vides = stopwords.words('english')\n",
    "print(mots_vides)"
   ]
  },
  {
   "cell_type": "code",
   "execution_count": 15,
   "id": "a018ab2d",
   "metadata": {},
   "outputs": [
    {
     "name": "stdout",
     "output_type": "stream",
     "text": [
      "['this', 'guy', 'ha', 'no', 'idea', 'of', 'cinema', 'okay', 'it', 'seems', 'he', 'made', 'a', 'few', 'interestig', 'theater', 'show', 'in', 'his', 'youth', 'and', 'about', 'two', 'acceptable', 'movie', 'that', 'had', 'success', 'more', 'of', 'political', 'reason', 'cause', 'they', 'tricked', 'the', 'communist', 'censorship', 'this', 'all', 'is', 'very', 'good', 'but', 'look', 'carefully', 'he', 'doe', 'not', 'know', 'his', 'job', 'the', 'scene', 'are', 'unbalanced', 'without', 'proper', 'start', 'and', 'and', 'with', 'a', 'disordered', 'content', 'and', 'full', 'of', 'emptiness', 'he', 'ha', 'nothing', 'to', 'say', 'about', 'the', 'subject', 'so', 'he', 'overlicitates', 'with', 'violence', 'nakedness', 'and', 'gutter', 'language', 'how', 'is', 'it', 'possible', 'to', 'keep', 'alive', 'such', 'a', 'rotten', 'corpse', 'who', 'never', 'understood', 'anything', 'of', 'cinematographic', 'profession', 'and', 'art', 'why', 'dont', 'they', 'let', 'him', 'succumb', 'in', 'piece']\n",
      "\n",
      "\n",
      "['guy', 'ha', 'idea', 'cinema', 'okay', 'seems', 'made', 'interestig', 'theater', 'show', 'youth', 'two', 'acceptable', 'movie', 'success', 'political', 'reason', 'cause', 'tricked', 'communist', 'censorship', 'good', 'look', 'carefully', 'doe', 'know', 'job', 'scene', 'unbalanced', 'without', 'proper', 'start', 'disordered', 'content', 'full', 'emptiness', 'ha', 'nothing', 'say', 'subject', 'overlicitates', 'violence', 'nakedness', 'gutter', 'language', 'possible', 'keep', 'alive', 'rotten', 'corpse', 'never', 'understood', 'anything', 'cinematographic', 'profession', 'art', 'dont', 'let', 'succumb', 'piece']\n"
     ]
    }
   ],
   "source": [
    "#suppression des mots-vides\n",
    "corpus_sw = [[mot for mot in doc if not (mot in mots_vides)] for doc in corpus_lm]\n",
    "\n",
    "#vérification - origine\n",
    "print(corpus_lm[0])\n",
    "\n",
    "#sans les stopwords\n",
    "print('\\n')\n",
    "print(corpus_sw[0])"
   ]
  },
  {
   "cell_type": "code",
   "execution_count": 16,
   "id": "f4b2aba6",
   "metadata": {},
   "outputs": [
    {
     "name": "stdout",
     "output_type": "stream",
     "text": [
      "['guy', 'idea', 'cinema', 'okay', 'seems', 'made', 'interestig', 'theater', 'show', 'youth', 'two', 'acceptable', 'movie', 'success', 'political', 'reason', 'cause', 'tricked', 'communist', 'censorship', 'good', 'look', 'carefully', 'doe', 'know', 'job', 'scene', 'unbalanced', 'without', 'proper', 'start', 'disordered', 'content', 'full', 'emptiness', 'nothing', 'say', 'subject', 'overlicitates', 'violence', 'nakedness', 'gutter', 'language', 'possible', 'keep', 'alive', 'rotten', 'corpse', 'never', 'understood', 'anything', 'cinematographic', 'profession', 'art', 'dont', 'let', 'succumb', 'piece']\n"
     ]
    }
   ],
   "source": [
    "#retirer les token de moins de 3 lettres\n",
    "corpus_sw = [[mot for mot in doc if len(mot) >= 3] for doc in corpus_sw]\n",
    "print(corpus_sw[0])"
   ]
  },
  {
   "cell_type": "markdown",
   "id": "6e5efc00",
   "metadata": {},
   "source": [
    "# Word2Vec avec Gensim"
   ]
  },
  {
   "cell_type": "code",
   "execution_count": 17,
   "id": "e5107c07",
   "metadata": {},
   "outputs": [
    {
     "name": "stdout",
     "output_type": "stream",
     "text": [
      "guy idea cinema okay seems made interestig theater show youth two acceptable movie success political reason cause tricked communist censorship good look carefully doe know job scene unbalanced without proper start disordered content full emptiness nothing say subject overlicitates violence nakedness gutter language possible keep alive rotten corpse never understood anything cinematographic profession art dont let succumb piece\n"
     ]
    }
   ],
   "source": [
    "#reformer les documents sous forme de chaîne\n",
    "documents = [\" \".join(doc) for doc in corpus_sw]\n",
    "print(documents[0])"
   ]
  },
  {
   "cell_type": "code",
   "execution_count": 18,
   "id": "95e3580e",
   "metadata": {},
   "outputs": [],
   "source": [
    "#word2vec\n",
    "from gensim.models import Word2Vec\n",
    "modele = Word2Vec(corpus_sw,vector_size=2,window=5)"
   ]
  },
  {
   "cell_type": "code",
   "execution_count": 19,
   "id": "02f4059d",
   "metadata": {},
   "outputs": [
    {
     "name": "stdout",
     "output_type": "stream",
     "text": [
      "<class 'gensim.models.word2vec.Word2Vec'>\n"
     ]
    }
   ],
   "source": [
    "#type de l'objet\n",
    "print(type(modele))"
   ]
  },
  {
   "cell_type": "code",
   "execution_count": 20,
   "id": "fd37473a",
   "metadata": {},
   "outputs": [
    {
     "data": {
      "text/plain": [
       "['__class__',\n",
       " '__delattr__',\n",
       " '__dict__',\n",
       " '__dir__',\n",
       " '__doc__',\n",
       " '__eq__',\n",
       " '__format__',\n",
       " '__ge__',\n",
       " '__getattribute__',\n",
       " '__gt__',\n",
       " '__hash__',\n",
       " '__init__',\n",
       " '__init_subclass__',\n",
       " '__le__',\n",
       " '__lt__',\n",
       " '__module__',\n",
       " '__ne__',\n",
       " '__new__',\n",
       " '__reduce__',\n",
       " '__reduce_ex__',\n",
       " '__repr__',\n",
       " '__setattr__',\n",
       " '__sizeof__',\n",
       " '__str__',\n",
       " '__subclasshook__',\n",
       " '__weakref__',\n",
       " '_adapt_by_suffix',\n",
       " '_check_corpus_sanity',\n",
       " '_check_training_sanity',\n",
       " '_clear_post_train',\n",
       " '_do_train_epoch',\n",
       " '_do_train_job',\n",
       " '_get_next_alpha',\n",
       " '_get_thread_working_mem',\n",
       " '_job_producer',\n",
       " '_load_specials',\n",
       " '_log_epoch_end',\n",
       " '_log_epoch_progress',\n",
       " '_log_progress',\n",
       " '_log_train_end',\n",
       " '_raw_word_count',\n",
       " '_save_specials',\n",
       " '_scan_vocab',\n",
       " '_smart_save',\n",
       " '_train_epoch',\n",
       " '_train_epoch_corpusfile',\n",
       " '_worker_loop',\n",
       " '_worker_loop_corpusfile',\n",
       " 'add_lifecycle_event',\n",
       " 'add_null_word',\n",
       " 'alpha',\n",
       " 'batch_words',\n",
       " 'build_vocab',\n",
       " 'build_vocab_from_freq',\n",
       " 'cbow_mean',\n",
       " 'comment',\n",
       " 'compute_loss',\n",
       " 'corpus_count',\n",
       " 'corpus_total_words',\n",
       " 'create_binary_tree',\n",
       " 'cum_table',\n",
       " 'effective_min_count',\n",
       " 'epochs',\n",
       " 'estimate_memory',\n",
       " 'get_latest_training_loss',\n",
       " 'hashfxn',\n",
       " 'hs',\n",
       " 'init_sims',\n",
       " 'init_weights',\n",
       " 'layer1_size',\n",
       " 'lifecycle_events',\n",
       " 'load',\n",
       " 'make_cum_table',\n",
       " 'max_final_vocab',\n",
       " 'max_vocab_size',\n",
       " 'min_alpha',\n",
       " 'min_alpha_yet_reached',\n",
       " 'min_count',\n",
       " 'negative',\n",
       " 'ns_exponent',\n",
       " 'null_word',\n",
       " 'predict_output_word',\n",
       " 'prepare_vocab',\n",
       " 'prepare_weights',\n",
       " 'random',\n",
       " 'raw_vocab',\n",
       " 'reset_from',\n",
       " 'running_training_loss',\n",
       " 'sample',\n",
       " 'save',\n",
       " 'scan_vocab',\n",
       " 'score',\n",
       " 'seed',\n",
       " 'seeded_vector',\n",
       " 'sg',\n",
       " 'sorted_vocab',\n",
       " 'syn1neg',\n",
       " 'total_train_time',\n",
       " 'train',\n",
       " 'train_count',\n",
       " 'update_weights',\n",
       " 'vector_size',\n",
       " 'window',\n",
       " 'workers',\n",
       " 'wv']"
      ]
     },
     "execution_count": 20,
     "metadata": {},
     "output_type": "execute_result"
    }
   ],
   "source": [
    "#propriété de l'objet\n",
    "dir(modele)"
   ]
  },
  {
   "cell_type": "code",
   "execution_count": 21,
   "id": "0bcb75c1",
   "metadata": {},
   "outputs": [
    {
     "name": "stdout",
     "output_type": "stream",
     "text": [
      "<class 'gensim.models.keyedvectors.KeyedVectors'>\n"
     ]
    }
   ],
   "source": [
    "#propriété \"wv\" -> wordvector\n",
    "words = modele.wv\n",
    "\n",
    "#type\n",
    "print(type(words))"
   ]
  },
  {
   "cell_type": "code",
   "execution_count": 22,
   "id": "1ff8b9c7",
   "metadata": {},
   "outputs": [
    {
     "data": {
      "text/plain": [
       "['__class__',\n",
       " '__contains__',\n",
       " '__delattr__',\n",
       " '__dict__',\n",
       " '__dir__',\n",
       " '__doc__',\n",
       " '__eq__',\n",
       " '__format__',\n",
       " '__ge__',\n",
       " '__getattribute__',\n",
       " '__getitem__',\n",
       " '__gt__',\n",
       " '__hash__',\n",
       " '__init__',\n",
       " '__init_subclass__',\n",
       " '__le__',\n",
       " '__len__',\n",
       " '__lt__',\n",
       " '__module__',\n",
       " '__ne__',\n",
       " '__new__',\n",
       " '__reduce__',\n",
       " '__reduce_ex__',\n",
       " '__repr__',\n",
       " '__setattr__',\n",
       " '__setitem__',\n",
       " '__sizeof__',\n",
       " '__str__',\n",
       " '__subclasshook__',\n",
       " '__weakref__',\n",
       " '_adapt_by_suffix',\n",
       " '_load_specials',\n",
       " '_log_evaluate_word_analogies',\n",
       " '_save_specials',\n",
       " '_smart_save',\n",
       " '_upconvert_old_d2vkv',\n",
       " '_upconvert_old_vocab',\n",
       " 'add_lifecycle_event',\n",
       " 'add_vector',\n",
       " 'add_vectors',\n",
       " 'allocate_vecattrs',\n",
       " 'closer_than',\n",
       " 'cosine_similarities',\n",
       " 'distance',\n",
       " 'distances',\n",
       " 'doesnt_match',\n",
       " 'evaluate_word_analogies',\n",
       " 'evaluate_word_pairs',\n",
       " 'expandos',\n",
       " 'fill_norms',\n",
       " 'get_index',\n",
       " 'get_normed_vectors',\n",
       " 'get_vecattr',\n",
       " 'get_vector',\n",
       " 'has_index_for',\n",
       " 'index2entity',\n",
       " 'index2word',\n",
       " 'index_to_key',\n",
       " 'init_sims',\n",
       " 'intersect_word2vec_format',\n",
       " 'key_to_index',\n",
       " 'load',\n",
       " 'load_word2vec_format',\n",
       " 'log_accuracy',\n",
       " 'log_evaluate_word_pairs',\n",
       " 'mapfile_path',\n",
       " 'most_similar',\n",
       " 'most_similar_cosmul',\n",
       " 'most_similar_to_given',\n",
       " 'n_similarity',\n",
       " 'next_index',\n",
       " 'norms',\n",
       " 'rank',\n",
       " 'rank_by_centrality',\n",
       " 'relative_cosine_similarity',\n",
       " 'resize_vectors',\n",
       " 'save',\n",
       " 'save_word2vec_format',\n",
       " 'set_vecattr',\n",
       " 'similar_by_key',\n",
       " 'similar_by_vector',\n",
       " 'similar_by_word',\n",
       " 'similarity',\n",
       " 'similarity_unseen_docs',\n",
       " 'sort_by_descending_frequency',\n",
       " 'unit_normalize_all',\n",
       " 'vector_size',\n",
       " 'vectors',\n",
       " 'vectors_lockf',\n",
       " 'vectors_norm',\n",
       " 'vocab',\n",
       " 'wmdistance',\n",
       " 'word_vec',\n",
       " 'words_closer_than']"
      ]
     },
     "execution_count": 22,
     "metadata": {},
     "output_type": "execute_result"
    }
   ],
   "source": [
    "#les propriétés de KeyedVectors\n",
    "dir(words)"
   ]
  },
  {
   "cell_type": "code",
   "execution_count": 23,
   "id": "858d174a",
   "metadata": {},
   "outputs": [
    {
     "data": {
      "text/plain": [
       "{'film': 0,\n",
       " 'movie': 1,\n",
       " 'one': 2,\n",
       " 'like': 3,\n",
       " 'character': 4,\n",
       " 'time': 5,\n",
       " 'good': 6,\n",
       " 'would': 7,\n",
       " 'even': 8,\n",
       " 'see': 9,\n",
       " 'story': 10,\n",
       " 'get': 11,\n",
       " 'show': 12,\n",
       " 'scene': 13,\n",
       " 'great': 14,\n",
       " 'could': 15,\n",
       " 'people': 16,\n",
       " 'way': 17,\n",
       " 'also': 18,\n",
       " 'really': 19,\n",
       " 'make': 20,\n",
       " 'much': 21,\n",
       " 'first': 22,\n",
       " 'well': 23,\n",
       " 'thing': 24,\n",
       " 'made': 25,\n",
       " 'bad': 26,\n",
       " 'think': 27,\n",
       " 'life': 28,\n",
       " 'acting': 29,\n",
       " 'actor': 30,\n",
       " 'end': 31,\n",
       " 'watch': 32,\n",
       " 'little': 33,\n",
       " 'love': 34,\n",
       " 'year': 35,\n",
       " 'dont': 36,\n",
       " 'seen': 37,\n",
       " 'never': 38,\n",
       " 'though': 39,\n",
       " 'ever': 40,\n",
       " 'know': 41,\n",
       " 'give': 42,\n",
       " 'plot': 43,\n",
       " 'best': 44,\n",
       " 'back': 45,\n",
       " 'still': 46,\n",
       " 'work': 47,\n",
       " 'funny': 48,\n",
       " 'two': 49,\n",
       " 'better': 50,\n",
       " 'got': 51,\n",
       " 'look': 52,\n",
       " 'lot': 53,\n",
       " 'watching': 54,\n",
       " 'without': 55,\n",
       " 'director': 56,\n",
       " 'something': 57,\n",
       " 'take': 58,\n",
       " 'say': 59,\n",
       " 'fun': 60,\n",
       " 'man': 61,\n",
       " 'day': 62,\n",
       " 'many': 63,\n",
       " 'guy': 64,\n",
       " 'real': 65,\n",
       " 'come': 66,\n",
       " 'always': 67,\n",
       " 'ive': 68,\n",
       " 'play': 69,\n",
       " 'star': 70,\n",
       " 'another': 71,\n",
       " 'actually': 72,\n",
       " 'enough': 73,\n",
       " 'performance': 74,\n",
       " 'part': 75,\n",
       " 'fan': 76,\n",
       " 'horror': 77,\n",
       " 'doe': 78,\n",
       " 'old': 79,\n",
       " 'woman': 80,\n",
       " 'every': 81,\n",
       " 'anything': 82,\n",
       " 'fact': 83,\n",
       " 'want': 84,\n",
       " 'big': 85,\n",
       " 'kind': 86,\n",
       " 'going': 87,\n",
       " 'point': 88,\n",
       " 'music': 89,\n",
       " 'feel': 90,\n",
       " 'didnt': 91,\n",
       " 'original': 92,\n",
       " 'comedy': 93,\n",
       " 'however': 94,\n",
       " 'episode': 95,\n",
       " 'doesnt': 96,\n",
       " 'series': 97,\n",
       " 'find': 98,\n",
       " 'king': 99,\n",
       " 'quite': 100,\n",
       " 'action': 101,\n",
       " 'girl': 102,\n",
       " 'right': 103,\n",
       " 'rather': 104,\n",
       " 'kid': 105,\n",
       " 'pretty': 106,\n",
       " 'cast': 107,\n",
       " 'world': 108,\n",
       " 'thats': 109,\n",
       " 'isnt': 110,\n",
       " 'role': 111,\n",
       " 'done': 112,\n",
       " 'wasnt': 113,\n",
       " 'nothing': 114,\n",
       " 'true': 115,\n",
       " 'set': 116,\n",
       " 'seems': 117,\n",
       " 'new': 118,\n",
       " 'probably': 119,\n",
       " 'anyone': 120,\n",
       " 'left': 121,\n",
       " 'course': 122,\n",
       " 'friend': 123,\n",
       " 'sure': 124,\n",
       " 'face': 125,\n",
       " 'let': 126,\n",
       " 'use': 127,\n",
       " 'lead': 128,\n",
       " 'bit': 129,\n",
       " 'last': 130,\n",
       " 'far': 131,\n",
       " 'worst': 132,\n",
       " 'minute': 133,\n",
       " 'different': 134,\n",
       " 'camera': 135,\n",
       " 'effect': 136,\n",
       " 'yet': 137,\n",
       " 'thought': 138,\n",
       " 'screen': 139,\n",
       " 'poor': 140,\n",
       " 'audience': 141,\n",
       " 'around': 142,\n",
       " 'almost': 143,\n",
       " 'excellent': 144,\n",
       " 'moment': 145,\n",
       " 'idea': 146,\n",
       " 'watched': 147,\n",
       " 'piece': 148,\n",
       " 'house': 149,\n",
       " 'reason': 150,\n",
       " 'shot': 151,\n",
       " 'found': 152,\n",
       " 'start': 153,\n",
       " 'else': 154,\n",
       " 'least': 155,\n",
       " 'line': 156,\n",
       " 'version': 157,\n",
       " 'making': 158,\n",
       " 'need': 159,\n",
       " 'may': 160,\n",
       " 'long': 161,\n",
       " 'dialogue': 162,\n",
       " 'book': 163,\n",
       " 'song': 164,\n",
       " 'rest': 165,\n",
       " 'main': 166,\n",
       " 'saw': 167,\n",
       " 'script': 168,\n",
       " 'wife': 169,\n",
       " 'second': 170,\n",
       " 'death': 171,\n",
       " 'child': 172,\n",
       " 'interesting': 173,\n",
       " 'mean': 174,\n",
       " 'must': 175,\n",
       " 'away': 176,\n",
       " 'boy': 177,\n",
       " 'young': 178,\n",
       " 'tell': 179,\n",
       " 'try': 180,\n",
       " 'cant': 181,\n",
       " 'picture': 182,\n",
       " 'violence': 183,\n",
       " 'instead': 184,\n",
       " 'looking': 185,\n",
       " 'either': 186,\n",
       " 'season': 187,\n",
       " 'often': 188,\n",
       " 'eye': 189,\n",
       " 'hit': 190,\n",
       " 'stupid': 191,\n",
       " 'money': 192,\n",
       " 'absolutely': 193,\n",
       " 'hard': 194,\n",
       " 'sound': 195,\n",
       " 'three': 196,\n",
       " 'talent': 197,\n",
       " 'youre': 198,\n",
       " 'put': 199,\n",
       " 'favorite': 200,\n",
       " 'everyone': 201,\n",
       " 'production': 202,\n",
       " 'whole': 203,\n",
       " 'brilliant': 204,\n",
       " 'hate': 205,\n",
       " 'along': 206,\n",
       " 'lion': 207,\n",
       " 'review': 208,\n",
       " 'next': 209,\n",
       " 'blood': 210,\n",
       " 'might': 211,\n",
       " 'dvd': 212,\n",
       " 'beginning': 213,\n",
       " 'become': 214,\n",
       " 'ending': 215,\n",
       " 'place': 216,\n",
       " 'seem': 217,\n",
       " 'completely': 218,\n",
       " 'top': 219,\n",
       " 'voice': 220,\n",
       " 'seeing': 221,\n",
       " 'amazing': 222,\n",
       " 'police': 223,\n",
       " 'father': 224,\n",
       " 'later': 225,\n",
       " 'boring': 226,\n",
       " 'problem': 227,\n",
       " 'waste': 228,\n",
       " 'played': 229,\n",
       " 'looked': 230,\n",
       " 'definitely': 231,\n",
       " 'theyre': 232,\n",
       " 'home': 233,\n",
       " 'comment': 234,\n",
       " 'theme': 235,\n",
       " 'example': 236,\n",
       " 'totally': 237,\n",
       " 'youll': 238,\n",
       " 'small': 239,\n",
       " 'simply': 240,\n",
       " 'since': 241,\n",
       " 'michael': 242,\n",
       " 'human': 243,\n",
       " 'although': 244,\n",
       " 'style': 245,\n",
       " 'perfect': 246,\n",
       " 'family': 247,\n",
       " 'keep': 248,\n",
       " 'lady': 249,\n",
       " 'shes': 250,\n",
       " 'trying': 251,\n",
       " 'care': 252,\n",
       " 'laugh': 253,\n",
       " 'read': 254,\n",
       " 'able': 255,\n",
       " 'opinion': 256,\n",
       " 'early': 257,\n",
       " 'today': 258,\n",
       " 'move': 259,\n",
       " 'american': 260,\n",
       " 'tom': 261,\n",
       " 'beautiful': 262,\n",
       " 'behind': 263,\n",
       " 'given': 264,\n",
       " 'lack': 265,\n",
       " 'becomes': 266,\n",
       " 'enjoyed': 267,\n",
       " 'job': 268,\n",
       " 'high': 269,\n",
       " 'break': 270,\n",
       " 'direction': 271,\n",
       " 'black': 272,\n",
       " 'room': 273,\n",
       " 'everything': 274,\n",
       " 'guess': 275,\n",
       " 'came': 276,\n",
       " 'husband': 277,\n",
       " 'together': 278,\n",
       " 'wanted': 279,\n",
       " 'gamera': 280,\n",
       " 'side': 281,\n",
       " 'school': 282,\n",
       " 'title': 283,\n",
       " 'finally': 284,\n",
       " 'night': 285,\n",
       " 'hour': 286,\n",
       " 'worth': 287,\n",
       " 'comic': 288,\n",
       " 'figure': 289,\n",
       " 'getting': 290,\n",
       " 'trash': 291,\n",
       " 'jack': 292,\n",
       " 'john': 293,\n",
       " 'late': 294,\n",
       " 'fine': 295,\n",
       " 'writer': 296,\n",
       " 'town': 297,\n",
       " 'attempt': 298,\n",
       " 'final': 299,\n",
       " 'dark': 300,\n",
       " 'certainly': 301,\n",
       " 'beyond': 302,\n",
       " 'head': 303,\n",
       " 'killer': 304,\n",
       " 'nice': 305,\n",
       " 'opening': 306,\n",
       " 'others': 307,\n",
       " 'classic': 308,\n",
       " 'low': 309,\n",
       " 'budget': 310,\n",
       " 'liked': 311,\n",
       " 'stuff': 312,\n",
       " 'turn': 313,\n",
       " 'run': 314,\n",
       " 'theater': 315,\n",
       " 'thinking': 316,\n",
       " 'mention': 317,\n",
       " 'especially': 318,\n",
       " 'whether': 319,\n",
       " 'someone': 320,\n",
       " 'chance': 321,\n",
       " 'throughout': 322,\n",
       " 'effort': 323,\n",
       " 'enjoy': 324,\n",
       " 'believe': 325,\n",
       " 'add': 326,\n",
       " 'maybe': 327,\n",
       " 'serial': 328,\n",
       " 'type': 329,\n",
       " 'question': 330,\n",
       " 'name': 331,\n",
       " 'leave': 332,\n",
       " 'genre': 333,\n",
       " 'loved': 334,\n",
       " 'social': 335,\n",
       " 'half': 336,\n",
       " 'yes': 337,\n",
       " 'written': 338,\n",
       " 'act': 339,\n",
       " 'joke': 340,\n",
       " 'number': 341,\n",
       " 'evil': 342,\n",
       " 'felt': 343,\n",
       " 'overall': 344,\n",
       " 'commercial': 345,\n",
       " 'expect': 346,\n",
       " 'car': 347,\n",
       " 'ten': 348,\n",
       " 'female': 349,\n",
       " 'understand': 350,\n",
       " 'said': 351,\n",
       " 'full': 352,\n",
       " 'brother': 353,\n",
       " 'gore': 354,\n",
       " 'playing': 355,\n",
       " 'hope': 356,\n",
       " 'james': 357,\n",
       " 'couple': 358,\n",
       " 'period': 359,\n",
       " 'serious': 360,\n",
       " 'cinema': 361,\n",
       " 'city': 362,\n",
       " 'perhaps': 363,\n",
       " 'mind': 364,\n",
       " 'please': 365,\n",
       " 'special': 366,\n",
       " 'couldnt': 367,\n",
       " 'wont': 368,\n",
       " 'needed': 369,\n",
       " 'obvious': 370,\n",
       " 'setting': 371,\n",
       " 'help': 372,\n",
       " 'art': 373,\n",
       " 'awful': 374,\n",
       " 'writing': 375,\n",
       " 'recommend': 376,\n",
       " 'basically': 377,\n",
       " 'pay': 378,\n",
       " 'lost': 379,\n",
       " 'robert': 380,\n",
       " 'wrong': 381,\n",
       " 'carpenter': 382,\n",
       " 'sci': 383,\n",
       " 'documentary': 384,\n",
       " 'danny': 385,\n",
       " 'feature': 386,\n",
       " 'allen': 387,\n",
       " 'musical': 388,\n",
       " 'strange': 389,\n",
       " 'within': 390,\n",
       " 'studio': 391,\n",
       " 'quality': 392,\n",
       " 'relationship': 393,\n",
       " 'space': 394,\n",
       " 'highly': 395,\n",
       " 'fall': 396,\n",
       " 'complex': 397,\n",
       " 'cheesy': 398,\n",
       " 'light': 399,\n",
       " 'simple': 400,\n",
       " 'wouldnt': 401,\n",
       " 'hero': 402,\n",
       " 'particular': 403,\n",
       " 'team': 404,\n",
       " 'sexual': 405,\n",
       " 'close': 406,\n",
       " 'soon': 407,\n",
       " 'terrible': 408,\n",
       " 'viewer': 409,\n",
       " 'using': 410,\n",
       " 'feeling': 411,\n",
       " 'waterman': 412,\n",
       " 'longer': 413,\n",
       " 'attention': 414,\n",
       " 'except': 415,\n",
       " 'level': 416,\n",
       " 'richard': 417,\n",
       " 'change': 418,\n",
       " 'took': 419,\n",
       " 'used': 420,\n",
       " 'seemed': 421,\n",
       " 'anyway': 422,\n",
       " 'truly': 423,\n",
       " 'knew': 424,\n",
       " 'short': 425,\n",
       " 'mother': 426,\n",
       " 'person': 427,\n",
       " 'learn': 428,\n",
       " 'extremely': 429,\n",
       " 'son': 430,\n",
       " 'element': 431,\n",
       " 'begin': 432,\n",
       " 'exactly': 433,\n",
       " 'hand': 434,\n",
       " 'return': 435,\n",
       " 'detective': 436,\n",
       " 'called': 437,\n",
       " 'released': 438,\n",
       " 'several': 439,\n",
       " 'murder': 440,\n",
       " 'unbelievable': 441,\n",
       " 'remember': 442,\n",
       " 'soundtrack': 443,\n",
       " 'sad': 444,\n",
       " 'based': 445,\n",
       " 'zombie': 446,\n",
       " 'clearly': 447,\n",
       " 'went': 448,\n",
       " 'premise': 449,\n",
       " 'editing': 450,\n",
       " 'mystery': 451,\n",
       " 'earlier': 452,\n",
       " 'spend': 453,\n",
       " 'boyfriend': 454,\n",
       " 'crime': 455,\n",
       " 'dead': 456,\n",
       " 'viewing': 457,\n",
       " 'involved': 458,\n",
       " 'air': 459,\n",
       " 'nature': 460,\n",
       " 'list': 461,\n",
       " 'scoop': 462,\n",
       " 'happens': 463,\n",
       " 'stand': 464,\n",
       " 'famous': 465,\n",
       " 'talk': 466,\n",
       " 'sex': 467,\n",
       " 'particularly': 468,\n",
       " 'cut': 469,\n",
       " 'supposed': 470,\n",
       " 'unfortunately': 471,\n",
       " 'wonderful': 472,\n",
       " 'appear': 473,\n",
       " 'street': 474,\n",
       " 'humor': 475,\n",
       " 'view': 476,\n",
       " 'predictable': 477,\n",
       " 'appearance': 478,\n",
       " 'directed': 479,\n",
       " 'rating': 480,\n",
       " 'word': 481,\n",
       " 'adult': 482,\n",
       " 'similar': 483,\n",
       " 'group': 484,\n",
       " 'god': 485,\n",
       " 'cool': 486,\n",
       " 'visual': 487,\n",
       " 'twist': 488,\n",
       " 'meet': 489,\n",
       " 'hollywood': 490,\n",
       " 'flick': 491,\n",
       " 'stage': 492,\n",
       " 'video': 493,\n",
       " 'scooby': 494,\n",
       " 'sense': 495,\n",
       " 'noir': 496,\n",
       " 'creepy': 497,\n",
       " 'image': 498,\n",
       " 'interest': 499,\n",
       " 'thriller': 500,\n",
       " 'easily': 501,\n",
       " 'member': 502,\n",
       " 'accent': 503,\n",
       " 'brought': 504,\n",
       " 'positive': 505,\n",
       " 'lugosi': 506,\n",
       " 'hilarious': 507,\n",
       " 'tone': 508,\n",
       " 'exciting': 509,\n",
       " 'strong': 510,\n",
       " 'seriously': 511,\n",
       " 'age': 512,\n",
       " 'military': 513,\n",
       " 'entertainment': 514,\n",
       " 'despite': 515,\n",
       " 'single': 516,\n",
       " 'narrative': 517,\n",
       " 'sequence': 518,\n",
       " 'experience': 519,\n",
       " 'adaptation': 520,\n",
       " 'dialog': 521,\n",
       " 'tried': 522,\n",
       " 'answer': 523,\n",
       " 'fight': 524,\n",
       " 'class': 525,\n",
       " 'copy': 526,\n",
       " 'subject': 527,\n",
       " 'cover': 528,\n",
       " 'fantasy': 529,\n",
       " 'sitting': 530,\n",
       " 'whilst': 531,\n",
       " 'recent': 532,\n",
       " 'mood': 533,\n",
       " 'shanghai': 534,\n",
       " 'war': 535,\n",
       " 'utterly': 536,\n",
       " 'entire': 537,\n",
       " 'killed': 538,\n",
       " 'possible': 539,\n",
       " 'hotel': 540,\n",
       " 'career': 541,\n",
       " 'sort': 542,\n",
       " 'admit': 543,\n",
       " 'romance': 544,\n",
       " 'whats': 545,\n",
       " 'doubt': 546,\n",
       " 'surprise': 547,\n",
       " 'giving': 548,\n",
       " 'excuse': 549,\n",
       " 'reality': 550,\n",
       " 'teenage': 551,\n",
       " 'case': 552,\n",
       " 'complete': 553,\n",
       " 'trailer': 554,\n",
       " 'poorly': 555,\n",
       " 'happen': 556,\n",
       " 'dad': 557,\n",
       " 'shown': 558,\n",
       " 'manner': 559,\n",
       " 'tale': 560,\n",
       " 'woody': 561,\n",
       " 'peter': 562,\n",
       " 'live': 563,\n",
       " 'wrote': 564,\n",
       " 'nudity': 565,\n",
       " 'standard': 566,\n",
       " 'term': 567,\n",
       " 'actual': 568,\n",
       " 'showed': 569,\n",
       " 'named': 570,\n",
       " 'ear': 571,\n",
       " 'past': 572,\n",
       " 'western': 573,\n",
       " 'kazan': 574,\n",
       " 'singing': 575,\n",
       " 'easy': 576,\n",
       " 'modern': 577,\n",
       " 'apart': 578,\n",
       " 'including': 579,\n",
       " 'lighting': 580,\n",
       " 'ill': 581,\n",
       " 'taking': 582,\n",
       " 'amusing': 583,\n",
       " 'etc': 584,\n",
       " 'student': 585,\n",
       " 'teenager': 586,\n",
       " 'mark': 587,\n",
       " 'call': 588,\n",
       " 'bought': 589,\n",
       " 'deal': 590,\n",
       " 'magic': 591,\n",
       " 'gon': 592,\n",
       " 'record': 593,\n",
       " 'superb': 594,\n",
       " 'history': 595,\n",
       " 'white': 596,\n",
       " 'sit': 597,\n",
       " 'villain': 598,\n",
       " 'parent': 599,\n",
       " 'loose': 600,\n",
       " 'considered': 601,\n",
       " 'camp': 602,\n",
       " 'possibly': 603,\n",
       " 'somehow': 604,\n",
       " 'note': 605,\n",
       " 'charlie': 606,\n",
       " 'appears': 607,\n",
       " 'obviously': 608,\n",
       " 'horrible': 609,\n",
       " 'cagney': 610,\n",
       " 'scream': 611,\n",
       " 'paris': 612,\n",
       " 'cold': 613,\n",
       " 'sadly': 614,\n",
       " 'attack': 615,\n",
       " 'amateur': 616,\n",
       " 'coming': 617,\n",
       " 'leaf': 618,\n",
       " 'hold': 619,\n",
       " 'cause': 620,\n",
       " 'hear': 621,\n",
       " 'daughter': 622,\n",
       " 'red': 623,\n",
       " 'sometimes': 624,\n",
       " 'youve': 625,\n",
       " 'ray': 626,\n",
       " 'timon': 627,\n",
       " 'cinematic': 628,\n",
       " 'various': 629,\n",
       " 'animal': 630,\n",
       " 'believable': 631,\n",
       " 'heart': 632,\n",
       " 'shame': 633,\n",
       " 'crew': 634,\n",
       " 'men': 635,\n",
       " 'plenty': 636,\n",
       " 'wish': 637,\n",
       " 'fear': 638,\n",
       " 'aint': 639,\n",
       " 'sick': 640,\n",
       " 'footage': 641,\n",
       " 'chemistry': 642,\n",
       " 'surprised': 643,\n",
       " 'fascinating': 644,\n",
       " 'brilliantly': 645,\n",
       " 'dog': 646,\n",
       " 'mountain': 647,\n",
       " 'photography': 648,\n",
       " 'werent': 649,\n",
       " 'filmed': 650,\n",
       " 'important': 651,\n",
       " 'fellow': 652,\n",
       " 'successful': 653,\n",
       " 'stay': 654,\n",
       " 'kick': 655,\n",
       " 'recommended': 656,\n",
       " 'drunk': 657,\n",
       " 'era': 658,\n",
       " 'radiation': 659,\n",
       " 'giant': 660,\n",
       " 'issue': 661,\n",
       " 'minor': 662,\n",
       " 'monster': 663,\n",
       " 'fairly': 664,\n",
       " 'catch': 665,\n",
       " 'van': 666,\n",
       " 'independent': 667,\n",
       " 'smart': 668,\n",
       " 'major': 669,\n",
       " 'fantastic': 670,\n",
       " 'language': 671,\n",
       " 'twin': 672,\n",
       " 'game': 673,\n",
       " 'universal': 674,\n",
       " 'whose': 675,\n",
       " 'grew': 676,\n",
       " 'target': 677,\n",
       " 'frankly': 678,\n",
       " 'pumbaa': 679,\n",
       " 'folk': 680,\n",
       " 'usual': 681,\n",
       " 'detail': 682,\n",
       " 'italian': 683,\n",
       " 'caught': 684,\n",
       " 'score': 685,\n",
       " 'price': 686,\n",
       " 'saying': 687,\n",
       " 'fit': 688,\n",
       " 'welles': 689,\n",
       " 'credit': 690,\n",
       " 'unlike': 691,\n",
       " 'bar': 692,\n",
       " 'shocking': 693,\n",
       " 'annoying': 694,\n",
       " 'decided': 695,\n",
       " 'force': 696,\n",
       " 'shooting': 697,\n",
       " 'extreme': 698,\n",
       " 'genius': 699,\n",
       " 'rated': 700,\n",
       " 'approach': 701,\n",
       " 'reviewer': 702,\n",
       " 'enjoyable': 703,\n",
       " 'saving': 704,\n",
       " 'private': 705,\n",
       " 'gun': 706,\n",
       " 'personally': 707,\n",
       " 'costume': 708,\n",
       " 'master': 709,\n",
       " 'political': 710,\n",
       " 'slow': 711,\n",
       " 'television': 712,\n",
       " 'third': 713,\n",
       " 'spirit': 714,\n",
       " 'share': 715,\n",
       " 'generally': 716,\n",
       " 'happy': 717,\n",
       " 'dramatic': 718,\n",
       " 'managed': 719,\n",
       " 'criminal': 720,\n",
       " 'arent': 721,\n",
       " 'touch': 722,\n",
       " 'seek': 723,\n",
       " 'personal': 724,\n",
       " 'epic': 725,\n",
       " 'atmosphere': 726,\n",
       " 'belief': 727,\n",
       " 'turned': 728,\n",
       " 'mary': 729,\n",
       " 'parade': 730,\n",
       " 'sorry': 731,\n",
       " 'realize': 732,\n",
       " 'suspense': 733,\n",
       " 'disappointed': 734,\n",
       " 'exception': 735,\n",
       " 'check': 736,\n",
       " 'meant': 737,\n",
       " 'mom': 738,\n",
       " 'meaning': 739,\n",
       " 'remake': 740,\n",
       " 'previous': 741,\n",
       " 'told': 742,\n",
       " 'moral': 743,\n",
       " 'terrific': 744,\n",
       " 'stop': 745,\n",
       " 'towards': 746,\n",
       " 'apparently': 747,\n",
       " 'reference': 748,\n",
       " 'cradle': 749,\n",
       " 'filth': 750,\n",
       " 'missing': 751,\n",
       " 'familiar': 752,\n",
       " 'yaara': 753,\n",
       " 'wondering': 754,\n",
       " 'cinematography': 755,\n",
       " 'dracula': 756,\n",
       " 'imdb': 757,\n",
       " 'system': 758,\n",
       " 'clear': 759,\n",
       " 'hell': 760,\n",
       " 'country': 761,\n",
       " 'gag': 762,\n",
       " 'judge': 763,\n",
       " 'masterpiece': 764,\n",
       " 'became': 765,\n",
       " 'stargate': 766,\n",
       " 'bounty': 767,\n",
       " 'hunter': 768,\n",
       " 'london': 769,\n",
       " 'sg1': 770,\n",
       " 'started': 771,\n",
       " 'wasted': 772,\n",
       " 'form': 773,\n",
       " 'immediately': 774,\n",
       " 'festival': 775,\n",
       " 'ruby': 776,\n",
       " 'match': 777,\n",
       " 'storyline': 778,\n",
       " 'dick': 779,\n",
       " 'lover': 780,\n",
       " 'footlight': 781,\n",
       " 'nearly': 782,\n",
       " 'murphy': 783,\n",
       " 'trashy': 784,\n",
       " 'novel': 785,\n",
       " 'hidden': 786,\n",
       " 'widmark': 787,\n",
       " 'initial': 788,\n",
       " 'entertaining': 789,\n",
       " 'working': 790,\n",
       " 'shining': 791,\n",
       " 'barbarian': 792,\n",
       " '2007': 793,\n",
       " 'fake': 794,\n",
       " 'wayne': 795,\n",
       " 'arthur': 796,\n",
       " 'visconti': 797,\n",
       " 'source': 798,\n",
       " 'somewhat': 799,\n",
       " 'kill': 800,\n",
       " 'living': 801,\n",
       " 'emotional': 802,\n",
       " 'extra': 803,\n",
       " 'marriage': 804,\n",
       " 'commentary': 805,\n",
       " 'memorable': 806,\n",
       " 'sondra': 807,\n",
       " 'karloff': 808,\n",
       " 'joe': 809,\n",
       " 'weird': 810,\n",
       " 'mask': 811,\n",
       " 'gem': 812,\n",
       " 'club': 813,\n",
       " 'alive': 814,\n",
       " 'artist': 815,\n",
       " 'affair': 816,\n",
       " 'raise': 817,\n",
       " 'success': 818,\n",
       " 'sexy': 819,\n",
       " 'plan': 820,\n",
       " 'normal': 821,\n",
       " 'fast': 822,\n",
       " 'local': 823,\n",
       " 'drama': 824,\n",
       " 'scare': 825,\n",
       " 'ghost': 826,\n",
       " 'combination': 827,\n",
       " 'outstanding': 828,\n",
       " 'disney': 829,\n",
       " 'kalifornia': 830,\n",
       " 'build': 831,\n",
       " 'singer': 832,\n",
       " 'beauty': 833,\n",
       " 'riker': 834,\n",
       " 'cruel': 835,\n",
       " 'solid': 836,\n",
       " 'cube': 837,\n",
       " 'mine': 838,\n",
       " 'plus': 839,\n",
       " 'gave': 840,\n",
       " 'worse': 841,\n",
       " 'matter': 842,\n",
       " 'expression': 843,\n",
       " 'entirely': 844,\n",
       " 'hot': 845,\n",
       " 'actress': 846,\n",
       " 'fire': 847,\n",
       " 'offer': 848,\n",
       " 'window': 849,\n",
       " 'david': 850,\n",
       " 'rate': 851,\n",
       " 'development': 852,\n",
       " 'metal': 853,\n",
       " 'silly': 854,\n",
       " 'cheap': 855,\n",
       " 'chandon': 856,\n",
       " 'surprisingly': 857,\n",
       " 'four': 858,\n",
       " 'thread': 859,\n",
       " 'context': 860,\n",
       " 'reminds': 861,\n",
       " 'ago': 862,\n",
       " 'ultimately': 863,\n",
       " 'lee': 864,\n",
       " 'cute': 865,\n",
       " 'demon': 866,\n",
       " 'slightly': 867,\n",
       " 'oscar': 868,\n",
       " 'concern': 869,\n",
       " 'none': 870,\n",
       " 'victim': 871,\n",
       " 'spot': 872,\n",
       " 'five': 873,\n",
       " 'expectation': 874,\n",
       " 'barely': 875,\n",
       " 'secret': 876,\n",
       " 'command': 877,\n",
       " 'impressive': 878,\n",
       " 'humour': 879,\n",
       " 'sky': 880,\n",
       " 'river': 881,\n",
       " 'date': 882,\n",
       " 'near': 883,\n",
       " 'fair': 884,\n",
       " 'compared': 885,\n",
       " 'bored': 886,\n",
       " 'ended': 887,\n",
       " 'follow': 888,\n",
       " 'mental': 889,\n",
       " 'imagination': 890,\n",
       " 'save': 891,\n",
       " 'adventure': 892,\n",
       " 'viewed': 893,\n",
       " 'player': 894,\n",
       " 'died': 895,\n",
       " 'sequel': 896,\n",
       " 'physical': 897,\n",
       " 'alone': 898,\n",
       " 'plague': 899,\n",
       " 'flat': 900,\n",
       " 'producer': 901,\n",
       " 'indeed': 902,\n",
       " '310': 903,\n",
       " 'value': 904,\n",
       " 'door': 905,\n",
       " 'taken': 906,\n",
       " 'critic': 907,\n",
       " 'machine': 908,\n",
       " 'alien': 909,\n",
       " 'running': 910,\n",
       " 'project': 911,\n",
       " 'double': 912,\n",
       " 'worthy': 913,\n",
       " 'ball': 914,\n",
       " 'edge': 915,\n",
       " 'decent': 916,\n",
       " 'albeit': 917,\n",
       " 'front': 918,\n",
       " 'phantasm': 919,\n",
       " 'merely': 920,\n",
       " 'satisfying': 921,\n",
       " 'impact': 922,\n",
       " 'kubrick': 923,\n",
       " 'instance': 924,\n",
       " 'violent': 925,\n",
       " 'queen': 926,\n",
       " 'count': 927,\n",
       " 'mysterious': 928,\n",
       " 'power': 929,\n",
       " 'energy': 930,\n",
       " 'doo': 931,\n",
       " 'drawn': 932,\n",
       " 'intention': 933,\n",
       " 'chris': 934,\n",
       " 'crap': 935,\n",
       " 'foot': 936,\n",
       " 'incredibly': 937,\n",
       " 'advice': 938,\n",
       " 'climax': 939,\n",
       " 'happened': 940,\n",
       " 'whatever': 941,\n",
       " 'due': 942,\n",
       " 'total': 943,\n",
       " 'smile': 944,\n",
       " 'happiness': 945,\n",
       " 'lane': 946,\n",
       " 'animation': 947,\n",
       " 'card': 948,\n",
       " 'reading': 949,\n",
       " 'usually': 950,\n",
       " 'clue': 951,\n",
       " 'across': 952,\n",
       " 'romantic': 953,\n",
       " 'garbage': 954,\n",
       " 'hair': 955,\n",
       " 'material': 956,\n",
       " 'fault': 957,\n",
       " 'science': 958,\n",
       " 'sight': 959,\n",
       " 'forced': 960,\n",
       " 'prof': 961,\n",
       " 'location': 962,\n",
       " 'pathetic': 963,\n",
       " 'hardly': 964,\n",
       " 'travel': 965,\n",
       " 'turtle': 966,\n",
       " 'forever': 967,\n",
       " 'large': 968}"
      ]
     },
     "execution_count": 23,
     "metadata": {},
     "output_type": "execute_result"
    }
   ],
   "source": [
    "#affichage des termes de leur index\n",
    "words.key_to_index"
   ]
  },
  {
   "cell_type": "code",
   "execution_count": 24,
   "id": "a21eab36",
   "metadata": {},
   "outputs": [
    {
     "data": {
      "text/plain": [
       "(969, 2)"
      ]
     },
     "execution_count": 24,
     "metadata": {},
     "output_type": "execute_result"
    }
   ],
   "source": [
    "words.vectors.shape"
   ]
  },
  {
   "cell_type": "code",
   "execution_count": 25,
   "id": "163fc560",
   "metadata": {},
   "outputs": [
    {
     "name": "stdout",
     "output_type": "stream",
     "text": [
      "[1.592801   0.45731232]\n"
     ]
    }
   ],
   "source": [
    "#coordonnées de 'boring'\n",
    "vec1 = words['boring']\n",
    "print(vec1)"
   ]
  },
  {
   "cell_type": "code",
   "execution_count": 26,
   "id": "ac780468",
   "metadata": {},
   "outputs": [
    {
     "name": "stdout",
     "output_type": "stream",
     "text": [
      "[2.3717234 1.644279 ]\n"
     ]
    }
   ],
   "source": [
    "#coordonnées de 'love'\n",
    "vec2 = words['love']\n",
    "print(vec2)"
   ]
  },
  {
   "cell_type": "code",
   "execution_count": 27,
   "id": "673754a3",
   "metadata": {},
   "outputs": [
    {
     "name": "stdout",
     "output_type": "stream",
     "text": [
      "0.9471343\n"
     ]
    }
   ],
   "source": [
    "#simlarité cosinus -- formule\n",
    "import numpy\n",
    "print(numpy.dot(vec1,vec2)/(numpy.linalg.norm(vec1)*numpy.linalg.norm(vec2)))"
   ]
  },
  {
   "cell_type": "code",
   "execution_count": 28,
   "id": "99ee8932",
   "metadata": {},
   "outputs": [
    {
     "data": {
      "text/plain": [
       "0.94713444"
      ]
     },
     "execution_count": 28,
     "metadata": {},
     "output_type": "execute_result"
    }
   ],
   "source": [
    "#similarité de gensim\n",
    "words.similarity('boring','love')"
   ]
  },
  {
   "cell_type": "code",
   "execution_count": 29,
   "id": "41eab3e0",
   "metadata": {},
   "outputs": [
    {
     "data": {
      "text/plain": [
       "[('edge', 0.9999995231628418),\n",
       " ('whether', 0.9999991655349731),\n",
       " ('understand', 0.9999988675117493),\n",
       " ('released', 0.9999964833259583),\n",
       " ('light', 0.9999958276748657),\n",
       " ('bought', 0.9999942779541016),\n",
       " ('slow', 0.9999867081642151),\n",
       " ('command', 0.9999855756759644),\n",
       " ('tried', 0.9999783039093018),\n",
       " ('brother', 0.9999707937240601)]"
      ]
     },
     "execution_count": 29,
     "metadata": {},
     "output_type": "execute_result"
    }
   ],
   "source": [
    "#les termes les plus proches de \"boring\"\n",
    "words.most_similar(\"boring\")"
   ]
  },
  {
   "cell_type": "code",
   "execution_count": 30,
   "id": "b7e10d27",
   "metadata": {},
   "outputs": [
    {
     "name": "stdout",
     "output_type": "stream",
     "text": [
      "[('past', 0.9999996423721313), ('rest', 0.9999969601631165), ('trailer', 0.9999938607215881), ('though', 0.9999935626983643)]\n"
     ]
    }
   ],
   "source": [
    "#plus proches de la conjonction de \"boring\" et \"love\"\n",
    "print(words.most_similar(positive=['boring','love'],topn=4))"
   ]
  },
  {
   "cell_type": "code",
   "execution_count": 31,
   "id": "c0c46c51",
   "metadata": {},
   "outputs": [
    {
     "name": "stdout",
     "output_type": "stream",
     "text": [
      "[('offer', 0.9882609844207764), ('oscar', 0.9538273811340332), ('share', 0.9297242760658264), ('forever', 0.9213628172874451)]\n"
     ]
    }
   ],
   "source": [
    "#plus proches de \"love\", loin de (\"boring\")\n",
    "print(words.most_similar(positive=['love'],negative=['boring'],topn=4))"
   ]
  },
  {
   "cell_type": "code",
   "execution_count": 32,
   "id": "0560176c",
   "metadata": {},
   "outputs": [
    {
     "name": "stdout",
     "output_type": "stream",
     "text": [
      "awful\n"
     ]
    }
   ],
   "source": [
    "#chercher l'intrus\n",
    "print(words.doesnt_match(['love','romance','nice','awful']))"
   ]
  },
  {
   "cell_type": "code",
   "execution_count": 33,
   "id": "1c997eb3",
   "metadata": {},
   "outputs": [
    {
     "name": "stdout",
     "output_type": "stream",
     "text": [
      "                 V1        V2\n",
      "film       4.278973  2.685822\n",
      "movie      3.959529  2.825736\n",
      "one        3.428247  2.062633\n",
      "like       3.759431  2.556596\n",
      "character  3.315631  1.988176\n",
      "...             ...       ...\n",
      "hardly     0.504609  0.640190\n",
      "travel     0.312583 -0.003713\n",
      "turtle     0.611507  0.261184\n",
      "forever   -0.031238  0.714805\n",
      "large      0.110307  0.044220\n",
      "\n",
      "[969 rows x 2 columns]\n"
     ]
    }
   ],
   "source": [
    "#récupérer les données dans un data frame\n",
    "df = pandas.DataFrame(words.vectors,columns=['V1','V2'],index=words.key_to_index.keys())\n",
    "print(df)"
   ]
  },
  {
   "cell_type": "code",
   "execution_count": 34,
   "id": "0b210876",
   "metadata": {},
   "outputs": [
    {
     "name": "stdout",
     "output_type": "stream",
     "text": [
      "                 V1        V2\n",
      "bad        2.387161  1.698941\n",
      "good       2.874387  2.253183\n",
      "plot       2.840403  1.320738\n",
      "character  3.315631  1.988176\n",
      "actor      2.535941  1.646468\n",
      "dialogue   1.134862  1.121174\n",
      "music      2.226920  1.023955\n"
     ]
    }
   ],
   "source": [
    "#quelques mots clés\n",
    "mots = ['bad','good','plot','character','actor','dialogue','music']\n",
    "dfMots = df.loc[mots,:]\n",
    "print(dfMots)"
   ]
  },
  {
   "cell_type": "code",
   "execution_count": 35,
   "id": "e95d60cd",
   "metadata": {},
   "outputs": [
    {
     "data": {
      "image/png": "[encoded data removed]",
      "text/plain": [
       "<Figure size 432x288 with 1 Axes>"
      ]
     },
     "metadata": {
      "needs_background": "light"
     },
     "output_type": "display_data"
    }
   ],
   "source": [
    "#graphique dans le plan\n",
    "import matplotlib.pyplot as plt\n",
    "plt.scatter(dfMots.V1,dfMots.V2,s=0.5)\n",
    "for i in range(dfMots.shape[0]):\n",
    "    plt.annotate(dfMots.index[i],(dfMots.V1[i],dfMots.V2[i]))\n",
    "plt.show()"
   ]
  },
  {
   "cell_type": "markdown",
   "id": "c7b904d3",
   "metadata": {},
   "source": [
    "# Word2Vec - Travailler avec un modèle pré-entraîné"
   ]
  },
  {
   "cell_type": "code",
   "execution_count": 36,
   "id": "f05c4a1f",
   "metadata": {},
   "outputs": [
    {
     "name": "stdout",
     "output_type": "stream",
     "text": [
      "155562\n"
     ]
    }
   ],
   "source": [
    "#voir -- https://fauconnier.github.io/\n",
    "from gensim.models import keyedvectors\n",
    "trained = keyedvectors.load_word2vec_format(\"frWac_non_lem_no_postag_no_phrase_500_skip_cut100.bin\",binary=True,unicode_errors='ignore')\n",
    "#taille du dictionnaire\n",
    "print(len(trained.key_to_index))"
   ]
  },
  {
   "cell_type": "code",
   "execution_count": 37,
   "id": "43a58435",
   "metadata": {},
   "outputs": [
    {
     "data": {
      "text/plain": [
       "[('arfa', 0.913178563117981),\n",
       " ('govou', 0.9104522466659546),\n",
       " ('juninho', 0.8955627679824829),\n",
       " ('toulalan', 0.8621358275413513),\n",
       " ('malouda', 0.8552051186561584),\n",
       " ('coupet', 0.8476995229721069),\n",
       " ('kallstrom', 0.8429117798805237),\n",
       " ('baros', 0.8416147828102112),\n",
       " ('abidal', 0.8360183238983154),\n",
       " ('wiltord', 0.8322257399559021)]"
      ]
     },
     "execution_count": 37,
     "metadata": {},
     "output_type": "execute_result"
    }
   ],
   "source": [
    "#similarité avec Benzema\n",
    "trained.most_similar(positive=[\"benzema\"])"
   ]
  },
  {
   "cell_type": "code",
   "execution_count": 38,
   "id": "b69ad82a",
   "metadata": {},
   "outputs": [
    {
     "data": {
      "text/plain": [
       "[('malouda', 0.43094778060913086),\n",
       " ('vieira', 0.42352476716041565),\n",
       " ('sagnol', 0.42134761810302734),\n",
       " ('thuram', 0.4146784842014313),\n",
       " ('anelka', 0.41370975971221924),\n",
       " ('toulalan', 0.40895143151283264),\n",
       " ('makelele', 0.4072572886943817),\n",
       " ('trezeguet', 0.3994947373867035),\n",
       " ('evra', 0.3987172544002533),\n",
       " ('govou', 0.39852991700172424)]"
      ]
     },
     "execution_count": 38,
     "metadata": {},
     "output_type": "execute_result"
    }
   ],
   "source": [
    "#similarité avec Benzema sans l'ol (olympique lyonnais)\n",
    "trained.most_similar(positive=[\"benzema\"],negative=[\"ol\"])"
   ]
  },
  {
   "cell_type": "markdown",
   "id": "a8225a8b",
   "metadata": {},
   "source": [
    "# Doc2Vec avec gensim"
   ]
  },
  {
   "cell_type": "code",
   "execution_count": 39,
   "id": "106f69db",
   "metadata": {},
   "outputs": [
    {
     "name": "stdout",
     "output_type": "stream",
     "text": [
      "TaggedDocument(['guy', 'idea', 'cinema', 'okay', 'seems', 'made', 'interestig', 'theater', 'show', 'youth', 'two', 'acceptable', 'movie', 'success', 'political', 'reason', 'cause', 'tricked', 'communist', 'censorship', 'good', 'look', 'carefully', 'doe', 'know', 'job', 'scene', 'unbalanced', 'without', 'proper', 'start', 'disordered', 'content', 'full', 'emptiness', 'nothing', 'say', 'subject', 'overlicitates', 'violence', 'nakedness', 'gutter', 'language', 'possible', 'keep', 'alive', 'rotten', 'corpse', 'never', 'understood', 'anything', 'cinematographic', 'profession', 'art', 'dont', 'let', 'succumb', 'piece'], ['d1'])\n"
     ]
    }
   ],
   "source": [
    "#tagger les documents avec leur identifiant\n",
    "from gensim.models.doc2vec import TaggedDocument\n",
    "tagged_docs = [TaggedDocument(words=corpus_sw[i],tags=[\"d\"+str(D.ID[i])]) for i in range(len(corpus_sw))]\n",
    "\n",
    "#premier doc par ex.\n",
    "print(tagged_docs[0])"
   ]
  },
  {
   "cell_type": "code",
   "execution_count": 40,
   "id": "fb980b6e",
   "metadata": {},
   "outputs": [
    {
     "name": "stdout",
     "output_type": "stream",
     "text": [
      "TaggedDocument(['movie', 'extremely', 'depressing', 'character', 'cold', 'mother', 'main', 'character', 'everything', 'motherly', 'unhappy', 'marriage', 'always', 'put', 'husband', 'child', 'first', 'husband', 'visit', 'son', 'meet', 'hunk', 'sleeping', 'daughter', 'end', 'sleeping', 'part', 'movie', 'right', 'excellent', 'watched', 'guy', 'charming', 'blame', 'motherly', 'sleep', 'daughter', 'lover', 'let', 'blame', 'shock', 'losing', 'husband', 'becomes', 'totally', 'obsessed', 'guy', 'think', 'part', 'started', 'dislike', 'movie', 'shes', 'always', 'wanting', 'please', 'old', 'fashioned', 'way', 'snack', 'working', 'son', 'house', 'guess', 'thing', 'ever', 'learned', 'way', 'could', 'get', 'attention', 'guy', 'obviously', 'interested', 'actually', 'seems', 'like', 'considered', 'sleeping', 'charitable', 'activity', 'instead', 'insulted', 'continues', 'beg', 'bed', 'nice', 'becomes', 'abusive', 'want', 'please', 'tell', 'desperate', 'way', 'insulting', 'badly', 'outraged', 'movie', 'utter', 'lack', 'selfrespect', 'mother', 'tell', 'craig', 'something', 'like', 'shapeless', 'lump', 'first', 'time', 'sleep', 'together', 'movie', 'insult', 'woman', 'kind', 'would', 'bought', 'little', 'object', 'would', 'brought', 'satisfaction', 'lot', 'emotional', 'pain'], ['d2'])\n"
     ]
    }
   ],
   "source": [
    "#second doc.\n",
    "print(tagged_docs[1])"
   ]
  },
  {
   "cell_type": "code",
   "execution_count": 41,
   "id": "c70c8997",
   "metadata": {},
   "outputs": [],
   "source": [
    "#doc2vec\n",
    "from gensim.models.doc2vec import Doc2Vec\n",
    "modeleDoc = Doc2Vec(vector_size=2,window=5)\n",
    "\n",
    "#construction de dictionnaire dans un premier temps\n",
    "modeleDoc.build_vocab(tagged_docs)"
   ]
  },
  {
   "cell_type": "code",
   "execution_count": 42,
   "id": "136decf8",
   "metadata": {},
   "outputs": [
    {
     "data": {
      "text/html": [
       "<div>\n",
       "<style scoped>\n",
       "    .dataframe tbody tr th:only-of-type {\n",
       "        vertical-align: middle;\n",
       "    }\n",
       "\n",
       "    .dataframe tbody tr th {\n",
       "        vertical-align: top;\n",
       "    }\n",
       "\n",
       "    .dataframe thead th {\n",
       "        text-align: right;\n",
       "    }\n",
       "</style>\n",
       "<table border=\"1\" class=\"dataframe\">\n",
       "  <thead>\n",
       "    <tr style=\"text-align: right;\">\n",
       "      <th></th>\n",
       "      <th>V1</th>\n",
       "      <th>V2</th>\n",
       "    </tr>\n",
       "  </thead>\n",
       "  <tbody>\n",
       "    <tr>\n",
       "      <th>film</th>\n",
       "      <td>-0.026811</td>\n",
       "      <td>0.011822</td>\n",
       "    </tr>\n",
       "    <tr>\n",
       "      <th>movie</th>\n",
       "      <td>0.255167</td>\n",
       "      <td>0.450464</td>\n",
       "    </tr>\n",
       "    <tr>\n",
       "      <th>one</th>\n",
       "      <td>-0.465147</td>\n",
       "      <td>-0.355840</td>\n",
       "    </tr>\n",
       "    <tr>\n",
       "      <th>like</th>\n",
       "      <td>0.322944</td>\n",
       "      <td>0.448649</td>\n",
       "    </tr>\n",
       "    <tr>\n",
       "      <th>character</th>\n",
       "      <td>-0.250771</td>\n",
       "      <td>-0.188169</td>\n",
       "    </tr>\n",
       "    <tr>\n",
       "      <th>...</th>\n",
       "      <td>...</td>\n",
       "      <td>...</td>\n",
       "    </tr>\n",
       "    <tr>\n",
       "      <th>hardly</th>\n",
       "      <td>0.203586</td>\n",
       "      <td>0.450866</td>\n",
       "    </tr>\n",
       "    <tr>\n",
       "      <th>travel</th>\n",
       "      <td>-0.151883</td>\n",
       "      <td>-0.291927</td>\n",
       "    </tr>\n",
       "    <tr>\n",
       "      <th>turtle</th>\n",
       "      <td>0.150994</td>\n",
       "      <td>-0.021792</td>\n",
       "    </tr>\n",
       "    <tr>\n",
       "      <th>forever</th>\n",
       "      <td>-0.498972</td>\n",
       "      <td>0.420885</td>\n",
       "    </tr>\n",
       "    <tr>\n",
       "      <th>large</th>\n",
       "      <td>-0.366944</td>\n",
       "      <td>-0.246520</td>\n",
       "    </tr>\n",
       "  </tbody>\n",
       "</table>\n",
       "<p>969 rows × 2 columns</p>\n",
       "</div>"
      ],
      "text/plain": [
       "                 V1        V2\n",
       "film      -0.026811  0.011822\n",
       "movie      0.255167  0.450464\n",
       "one       -0.465147 -0.355840\n",
       "like       0.322944  0.448649\n",
       "character -0.250771 -0.188169\n",
       "...             ...       ...\n",
       "hardly     0.203586  0.450866\n",
       "travel    -0.151883 -0.291927\n",
       "turtle     0.150994 -0.021792\n",
       "forever   -0.498972  0.420885\n",
       "large     -0.366944 -0.246520\n",
       "\n",
       "[969 rows x 2 columns]"
      ]
     },
     "execution_count": 42,
     "metadata": {},
     "output_type": "execute_result"
    }
   ],
   "source": [
    "#coordonnées des termes - comme avec doc2vec\n",
    "pandas.DataFrame(modeleDoc.wv.vectors,columns=['V1','V2'],index=modeleDoc.wv.key_to_index.keys())"
   ]
  },
  {
   "cell_type": "code",
   "execution_count": 43,
   "id": "9f2602a7",
   "metadata": {},
   "outputs": [
    {
     "name": "stdout",
     "output_type": "stream",
     "text": [
      "<gensim.models.keyedvectors.KeyedVectors object at 0x00000226A5609430>\n"
     ]
    }
   ],
   "source": [
    "#modélisation pour le positionnement des documents\n",
    "modeleDoc.train(tagged_docs,total_examples=modeleDoc.corpus_count,epochs=100)\n",
    "print(modeleDoc.dv)"
   ]
  },
  {
   "cell_type": "code",
   "execution_count": null,
   "id": "4419e1c3",
   "metadata": {},
   "outputs": [],
   "source": [
    "#coordonnées des documents\n",
    "#print(modeleDoc.dv.key_to_index)"
   ]
  },
  {
   "cell_type": "code",
   "execution_count": 44,
   "id": "186a111e",
   "metadata": {},
   "outputs": [
    {
     "name": "stdout",
     "output_type": "stream",
     "text": [
      "           X1        X2\n",
      "0   -0.616892  2.129723\n",
      "1    0.236581  2.737840\n",
      "2   -0.392282  2.317758\n",
      "3    0.117344  3.013039\n",
      "4   -2.857508  0.032675\n",
      "..        ...       ...\n",
      "195 -1.558749  0.654467\n",
      "196 -0.582765  1.513740\n",
      "197 -3.515436 -0.829151\n",
      "198  1.048651  3.434941\n",
      "199 -5.043906 -1.480523\n",
      "\n",
      "[200 rows x 2 columns]\n"
     ]
    }
   ],
   "source": [
    "#data frame avec les coordonnées\n",
    "dfDoc2Vec = pandas.DataFrame(modeleDoc.dv.vectors,columns=['X1','X2'])\n",
    "print(dfDoc2Vec)"
   ]
  },
  {
   "cell_type": "code",
   "execution_count": 45,
   "id": "3f2b476d",
   "metadata": {},
   "outputs": [
    {
     "data": {
      "text/plain": [
       "<AxesSubplot:xlabel='X1', ylabel='X2'>"
      ]
     },
     "execution_count": 45,
     "metadata": {},
     "output_type": "execute_result"
    },
    {
     "data": {
      "image/png": "[encoded data removed]",
      "text/plain": [
       "<Figure size 432x288 with 1 Axes>"
      ]
     },
     "metadata": {
      "needs_background": "light"
     },
     "output_type": "display_data"
    }
   ],
   "source": [
    "#graphique\n",
    "import seaborn as sns\n",
    "sns.scatterplot(data=dfDoc2Vec,x='X1',y='X2')"
   ]
  },
  {
   "cell_type": "code",
   "execution_count": 46,
   "id": "e72b890a",
   "metadata": {},
   "outputs": [
    {
     "data": {
      "text/html": [
       "<div>\n",
       "<style scoped>\n",
       "    .dataframe tbody tr th:only-of-type {\n",
       "        vertical-align: middle;\n",
       "    }\n",
       "\n",
       "    .dataframe tbody tr th {\n",
       "        vertical-align: top;\n",
       "    }\n",
       "\n",
       "    .dataframe thead th {\n",
       "        text-align: right;\n",
       "    }\n",
       "</style>\n",
       "<table border=\"1\" class=\"dataframe\">\n",
       "  <thead>\n",
       "    <tr style=\"text-align: right;\">\n",
       "      <th></th>\n",
       "      <th>X1</th>\n",
       "      <th>X2</th>\n",
       "    </tr>\n",
       "  </thead>\n",
       "  <tbody>\n",
       "    <tr>\n",
       "      <th>124</th>\n",
       "      <td>-16.358557</td>\n",
       "      <td>-5.379943</td>\n",
       "    </tr>\n",
       "  </tbody>\n",
       "</table>\n",
       "</div>"
      ],
      "text/plain": [
       "            X1        X2\n",
       "124 -16.358557 -5.379943"
      ]
     },
     "execution_count": 46,
     "metadata": {},
     "output_type": "execute_result"
    }
   ],
   "source": [
    "#le document dans le quart sud-ouest\n",
    "dfDoc2Vec.loc[dfDoc2Vec.X1 < -15,:]"
   ]
  },
  {
   "cell_type": "code",
   "execution_count": 47,
   "id": "89411b00",
   "metadata": {},
   "outputs": [
    {
     "data": {
      "text/plain": [
       "'Coming immediately on the heels of Match Point (2005), a fine if somewhat self-repetitive piece of \"serious Woody,\" Scoop gives new hope to Allen\\'s small but die-hard band of followers (among whom I number myself) that the master has once again found his form. A string of disappointing efforts, culminating in the dreary Melinda and Melinda (2004) and the embarrassing Anything Else (2003) raised serious doubts that another first rate Woody comedy, with or without his own participation as an actor, was in the cards. Happily, the cards turn out to be a Tarot deck that serves as Scoop\\'s clever Maguffin and proffers an optimistic reading for the future of Woody Allen comedy.  Even more encouraging, Woody\\'s self-casting - sadly one of the weakest elements of his films in recent years - is here an inspired bit of self-parody as well as a humble recognition at last that he can no longer play romantic leads with women young enough to be his daughters or granddaughters. In Scoop, Allen astutely assigns himself the role of Sid Waterman, an aging magician with cheap tricks and tired stage-patter who, much like Woody himself, has brought his act to London, where audiences - if not more receptive - are at least more polite. Like Chaplin\\'s Calvero in Limelight (1952), Sid Waterman affords Allen the opportunity to don the slightly distorted mask of an artist whose art has declined and whose audience is no longer large or appreciative. Moreover, because they seem in character, Allen\\'s ticks and prolonged stammers are less distracting here than they have been in some time.   Waterman\\'s character also functions neatly in the plot. His fake magic body-dissolving box becomes the ironically plausible location for visitations from Joe Strombel (Ian McShane), a notorious journalistic muckraker and recent cardiac arrest victim. Introduced on a River Styx ferryboat-to-Hades, Strombel repeatedly jumps ship because he just can\\'t rest in eternity without communicating one last \"scoop\" about the identity of the notorious \"Tarot killer.\" Unfortunately, his initial return from the dead leads him to Waterman\\'s magic show and the only conduit for his hot lead turns out to be a journalism undergraduate, Sondra Pransky (Scarlett Johansson), who has been called up from the audience as a comic butt for the magician\\'s climactic trick. Sondra enthusiastically seizes the journalistic opportunity and drags the reluctant Waterman into the investigation to play the role of her millionaire father. As demonstrated in Lost in Translation, Johansson has a talent for comedy, and the querulous by-play between her and Allen is very amusing - and all the more so for never threatening to become a prelude to romance.  Scoop\\'s serial killer plot, involving grisly murders of prostitutes and an aristocratic chief suspect, Peter Lyman (Hugh Jackman), is the no doubt predictable result of Allen\\'s lengthy sabbatical exposure to London\\'s ubiquitous Jack the Ripper landmarks and lore. Yet other facets of Scoop (as of Match Point) also derive from Woody\\'s late life encounter with English culture. Its class structure, manners, idiom, dress, architecture, and, yes, peculiar driving habits give Woody fresh new material for wry observation of human behavior as well as sharp social satire. When, for instance, Sondra is trying to ingratiate herself with Peter Lyman at a ritzy private club, Waterman observes \"from his point of view we\\'re scum.\" A good deal of humor is also generated by the contretemps of stiffly reserved British social manners encountering Waterman\\'s insistent Borscht-belt Jewish plebeianism. And, then, of course, there is Waterman\\'s hilarious exit in a Smart Car he can\\'t remember to drive on the left side of the road.  As usual, Allen\\'s humor in Scoop includes heavy doses of in-jokes, taking the form of sly allusions to film and literary sources as well as, increasingly, references to his own filmography. In addition to the pervasive Jack the Ripper references, for instance, the film\\'s soundtrack is dominated by an arrangement of Grieg\\'s \"The Hall of the Mountain King,\" compulsively whistled by Hans Beckert in M, the first masterpiece of the serial killer genre. The post-funeral gathering of journalists who discuss the exploits of newly departed Joe Strombel clearly mimics the opening of Broadway Danny Rose (1984). References to Deconstructing Harry (1997) include the use of Death as a character (along with his peculiar voice and costume), the use of Mandelbaum as a character name, and the mention of Adair University (Harry\\'s \"alma mater\" and where Sondra is now a student). Moreover, the systematic use of Greek mythology in the underworld river cruise to Hades recalls the use of Greek gods and a Chorus in Mighty Aphrodite (1995).  As to quotable gags, Allen\\'s scripts rely less on one-liners than they did earlier in his career, but Scoop does provides at least a couple of memorable ones. To a question about his religion, Waterman answers: \"I was born in the Hebrew persuasion, but later I converted to narcissism.\" And Sondra snaps off this put-down of Waterman\\'s wannabe crime-detecting: \"If we put our heads together you\\'ll hear a hollow noise.\" All in all, Scoop is by far Woody Allen\\'s most satisfying comedy in a decade.'"
      ]
     },
     "execution_count": 47,
     "metadata": {},
     "output_type": "execute_result"
    }
   ],
   "source": [
    "#doc corresp. au point dans le quart sud-ouest\n",
    "D.commentaires[124]"
   ]
  },
  {
   "cell_type": "code",
   "execution_count": 48,
   "id": "c29a6dac",
   "metadata": {},
   "outputs": [
    {
     "data": {
      "text/html": [
       "<div>\n",
       "<style scoped>\n",
       "    .dataframe tbody tr th:only-of-type {\n",
       "        vertical-align: middle;\n",
       "    }\n",
       "\n",
       "    .dataframe tbody tr th {\n",
       "        vertical-align: top;\n",
       "    }\n",
       "\n",
       "    .dataframe thead th {\n",
       "        text-align: right;\n",
       "    }\n",
       "</style>\n",
       "<table border=\"1\" class=\"dataframe\">\n",
       "  <thead>\n",
       "    <tr style=\"text-align: right;\">\n",
       "      <th></th>\n",
       "      <th>X1</th>\n",
       "      <th>X2</th>\n",
       "    </tr>\n",
       "  </thead>\n",
       "  <tbody>\n",
       "    <tr>\n",
       "      <th>53</th>\n",
       "      <td>4.053157</td>\n",
       "      <td>8.560942</td>\n",
       "    </tr>\n",
       "  </tbody>\n",
       "</table>\n",
       "</div>"
      ],
      "text/plain": [
       "          X1        X2\n",
       "53  4.053157  8.560942"
      ]
     },
     "execution_count": 48,
     "metadata": {},
     "output_type": "execute_result"
    }
   ],
   "source": [
    "#point quart nord-est\n",
    "dfDoc2Vec.loc[dfDoc2Vec.X1 > 4,:]"
   ]
  },
  {
   "cell_type": "code",
   "execution_count": 49,
   "id": "2f0d3538",
   "metadata": {},
   "outputs": [
    {
     "data": {
      "text/plain": [
       "'We now travel to a parallel universe where the appearance of giant prehistoric monsters flattening cities are part of the daily routine. It\\'s the world of Godzilla, Rodan, Mothra Ghidrah and their kind - a strange world, and one made even stranger by the appearance of an unidentified flying turtle called Gamera.  Forever in the shadow of the monolithic Toho Studios, second rung Daiei Studios were more famous for samurai sagas than monster movies. In the mid 60s they decided to join the giant reptile race and designed a rival monster series to Toho\\'s mammothly successful Godzilla. They wisely chose Gamera as their flagship - a giant turtle that shoots flames from between its snaggle-teeth, and spins through the air by shooting flames through its shell\\'s feet-holes (and at one point you almost see the paper mache shell catch fire!).  The first Gamera film \"Gamera The Invincible\" (as it was sold to the US) is a virtual mirror of the first Godzilla film, only 10 years behind. American fighters chase an unmarked plane over the Arctic to its fiery demise - the nuclear bomb on board ignites and awakens the giant Gamera from its icy slumber. Feeding off atomic energy, it immediately goes on a rampage, and the world wants to destroy Gamera once and for all, but a little Japanese boy named Kenny, who has a psychic connection with the giant turtle and even keeps a miniature version in an aquarium by his bedside, believes Gamera is essentially kind and benevolent. He\\'s like a little Jewish kid with a pinup of Hitler. \"Gamera is a GOOD turtle,\" he pleads, then sulks, and puts on a face like someone\\'s pooped in his coco pops. Miraculously the world\\'s leaders listen to him, and so begins Z-Plan to save the world AND Gamera from complete destruction.  Released in 1965, Gamera was a surprising hit. The annoying infantile anthropomorphism actually worked on kiddie audiences in both Japan and the US, and the sight of Gamera on two feet stomping miniatures of Tokyo and the North Pole is gloriously chintzy. Most surprising of all is the longevity of the series: eight original Gamera films, plus a slew of recent remakes. Not bad for a mutant reptile whose only friend is mewing eight year old milquetoast - and if I hear \"Gamera is friends to ALL children\" one more time I\\'M going to crush Tokyo. Which appears to be an easy task in the parallel universe where children are smart and turtles are bigger than a Seiko billboard in the 1965 turtle-fest Gamera.'"
      ]
     },
     "execution_count": 49,
     "metadata": {},
     "output_type": "execute_result"
    }
   ],
   "source": [
    "#commentaire n°53\n",
    "D.commentaires[53]"
   ]
  },
  {
   "cell_type": "code",
   "execution_count": 50,
   "id": "6b59e743",
   "metadata": {},
   "outputs": [
    {
     "data": {
      "text/plain": [
       "<AxesSubplot:xlabel='X1', ylabel='X2'>"
      ]
     },
     "execution_count": 50,
     "metadata": {},
     "output_type": "execute_result"
    },
    {
     "data": {
      "image/png": "[encoded data removed]",
      "text/plain": [
       "<Figure size 432x288 with 1 Axes>"
      ]
     },
     "metadata": {
      "needs_background": "light"
     },
     "output_type": "display_data"
    }
   ],
   "source": [
    "#ajouter la polarité\n",
    "dfDoc2Vec['polarite'] = D.label\n",
    "\n",
    "#refaire le graphique avec la polarité\n",
    "sns.scatterplot(data=dfDoc2Vec,x='X1',y='X2',hue='polarite')"
   ]
  }
 ],
 "metadata": {
  "kernelspec": {
   "display_name": "Python 3 (ipykernel)",
   "language": "python",
   "name": "python3"
  },
  "language_info": {
   "codemirror_mode": {
    "name": "ipython",
    "version": 3
   },
   "file_extension": ".py",
   "mimetype": "text/x-python",
   "name": "python",
   "nbconvert_exporter": "python",
   "pygments_lexer": "ipython3",
   "version": "3.8.8"
  }
 },
 "nbformat": 4,
 "nbformat_minor": 5
}
